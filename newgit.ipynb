{
 "cells": [
  {
   "cell_type": "code",
   "execution_count": 1,
   "id": "f6766962",
   "metadata": {},
   "outputs": [],
   "source": [
    "a = ['x', 'y','x', 'z','y','x']\n",
    "d = {}\n",
    "for i in a:\n",
    "    if i not in d:\n",
    "        d[i] = 1\n",
    "\n",
    "    else:\n",
    "        d[i] += 1\n",
    "\n",
    "# or\n",
    "d1 = {}\n",
    "for i in a:\n",
    "    d1[i] = d1.get(i, 0) + 1\n",
    "    \n",
    "d2 = d.copy()\n",
    "print(d2)\n"
   ]
  },
  {
   "cell_type": "code",
   "execution_count": 2,
   "id": "e271d8e2",
   "metadata": {},
   "outputs": [
    {
     "name": "stdout",
     "output_type": "stream",
     "text": [
      "{'a': 3, 'b': 1, 'f': 2, 'c': 1, 'd': 1, 'g': 1, 's': 1}\n"
     ]
    }
   ],
   "source": [
    "s = 'abfcdfgsaa'\n",
    "d = {}\n",
    "\n",
    "for i in s:\n",
    "    d[i] = d.get(i, 0)+1\n",
    "    \n",
    "print(d)    "
   ]
  },
  {
   "cell_type": "code",
   "execution_count": 4,
   "id": "3dc99c1e",
   "metadata": {},
   "outputs": [
    {
     "name": "stdout",
     "output_type": "stream",
     "text": [
      "['a', 'dictionary', 'is', 'a', 'datastructure']\n",
      "{'a': 2, 'dictionary': 1, 'is': 1, 'datastructure': 1}\n"
     ]
    }
   ],
   "source": [
    "line = \"a dictionary is a datastructure\"\n",
    "d = {}\n",
    "s = line.split()\n",
    "print(s)\n",
    "for i in s:\n",
    "    d[i] = d.get(i, 0)+1\n",
    "print(d)    \n",
    "    "
   ]
  },
  {
   "cell_type": "code",
   "execution_count": 6,
   "id": "7689e033",
   "metadata": {
    "scrolled": true
   },
   "outputs": [
    {
     "name": "stdout",
     "output_type": "stream",
     "text": [
      "8\n",
      "8\n"
     ]
    }
   ],
   "source": [
    "d = {'a':4, 'b':2, \"f\":1, 'd':1}\n",
    "s = 0\n",
    "\n",
    "for i in d:\n",
    "    s += d[i]\n",
    "print(s)    \n",
    "## or ############\n",
    "\n",
    "o = sum(d.values())\n",
    "print(o)"
   ]
  },
  {
   "cell_type": "code",
   "execution_count": 8,
   "id": "aaf173a7",
   "metadata": {},
   "outputs": [
    {
     "name": "stdout",
     "output_type": "stream",
     "text": [
      "[('f', 1), ('d', 1), ('b', 2), ('a', 4)]\n",
      "[('a', 4), ('b', 2), ('d', 1), ('f', 1)]\n"
     ]
    }
   ],
   "source": [
    "### sort\n",
    "d = {'a':4, 'b':2, \"f\":1, 'd':1}\n",
    "import operator\n",
    "k = operator.itemgetter(1)\n",
    "print(sorted(d.items(), key=k))  # sort according to numbers\n",
    "\n",
    "d = {'a':4, 'b':2, \"f\":1, 'd':1}\n",
    "import operator\n",
    "k = operator.itemgetter(0) # sort according to letters\n",
    "print(sorted(d.items(), key=k))\n",
    "\n",
    "\n"
   ]
  },
  {
   "cell_type": "code",
   "execution_count": 13,
   "id": "578f491f",
   "metadata": {},
   "outputs": [
    {
     "name": "stdout",
     "output_type": "stream",
     "text": [
      "ali [12, 13, 14]\n",
      "sara [7, 14, 15]\n",
      "taha [5, 8, 13]\n",
      "{'ali': [12, 13, 14], 'sara': [7, 14, 15], 'taha': [5, 8, 13]}\n"
     ]
    }
   ],
   "source": [
    "num = {\n",
    "    'ali':[12, 13, 14],\n",
    "    'sara' : [15, 7, 14],\n",
    "    'taha' : [5, 8, 13]\n",
    "}\n",
    "j = num.items()\n",
    "for k, v in num.items():\n",
    "    print(k, sorted(v))\n",
    "####\n",
    "d = {k : sorted(v) for k,v in num.items()}\n",
    "print(d)\n",
    "    "
   ]
  },
  {
   "cell_type": "code",
   "execution_count": 14,
   "id": "08759aa9",
   "metadata": {},
   "outputs": [
    {
     "name": "stdout",
     "output_type": "stream",
     "text": [
      "{'x': 3, 'y': 2, 'z': 1, 'w': 8, 't': 7}\n",
      "{'x': 3, 'y': 2, 'z': 1, 'w': 8, 't': 7}\n"
     ]
    }
   ],
   "source": [
    "#### compine two dectionaries\n",
    "d1 = {'x': 3, 'y': 2, 'z': 1}\n",
    "d2 = {'w': 8, 't': 7}\n",
    "d = {}\n",
    "d = d1.copy()\n",
    "d.update(d2)\n",
    "print(d)\n",
    "\n",
    "### or\n",
    "\n",
    "d = {}\n",
    "for i in (d1, d2):\n",
    "    d.update(i)\n",
    "print(d)\n",
    "\n",
    "    "
   ]
  },
  {
   "cell_type": "code",
   "execution_count": 15,
   "id": "5a47cc59",
   "metadata": {},
   "outputs": [
    {
     "name": "stdout",
     "output_type": "stream",
     "text": [
      "{'red': '#FF0000', 'green': '#008000'}\n"
     ]
    }
   ],
   "source": [
    "## Map to lits into a dic\n",
    "k = ['red', 'green']\n",
    "v = [\"#FF0000\", \"#008000\"]\n",
    "z = zip(k, v)\n",
    "d = dict(z)\n",
    "print(d)"
   ]
  },
  {
   "cell_type": "code",
   "execution_count": 16,
   "id": "d9680b7f",
   "metadata": {},
   "outputs": [
    {
     "name": "stdout",
     "output_type": "stream",
     "text": [
      "{'a': 2, 'r': 1}\n"
     ]
    }
   ],
   "source": [
    "s = 'alireza'\n",
    "x = ['a', 'r']\n",
    "d = {}\n",
    "for i in s:\n",
    "    if i in x:\n",
    "        d.setdefault(i, 0)\n",
    "        d[i] += 1\n",
    "print(d)        # {'a': 2, 'r': 1}"
   ]
  },
  {
   "cell_type": "code",
   "execution_count": null,
   "id": "1c58a2c9",
   "metadata": {},
   "outputs": [],
   "source": []
  }
 ],
 "metadata": {
  "kernelspec": {
   "display_name": "Python 3 (ipykernel)",
   "language": "python",
   "name": "python3"
  },
  "language_info": {
   "codemirror_mode": {
    "name": "ipython",
    "version": 3
   },
   "file_extension": ".py",
   "mimetype": "text/x-python",
   "name": "python",
   "nbconvert_exporter": "python",
   "pygments_lexer": "ipython3",
   "version": "3.11.4"
  }
 },
 "nbformat": 4,
 "nbformat_minor": 5
}
